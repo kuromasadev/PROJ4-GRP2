{
 "cells": [
  {
   "cell_type": "code",
   "execution_count": 2,
   "metadata": {},
   "outputs": [],
   "source": [
    "import pandas as pd\n",
    "import numpy as np"
   ]
  },
  {
   "cell_type": "code",
   "execution_count": 1,
   "metadata": {},
   "outputs": [],
   "source": [
    "### File Paths\n",
    "\n",
    "pri_path = '../data/predicted/pri_comp_inv.csv'\n",
    "sec_path = '../data/predicted/sec_comp_inv.csv'\n",
    "tri_path = '../data/predicted/tri_comp_inv.csv'"
   ]
  },
  {
   "cell_type": "code",
   "execution_count": 3,
   "metadata": {},
   "outputs": [],
   "source": [
    "def read_and_clean_csv(file_path):\n",
    "    # Read the CSV file into a DataFrame\n",
    "    df = pd.read_csv(file_path)\n",
    "    \n",
    "    # Drop rows with NaN values\n",
    "    df_cleaned = df.dropna(how='all')\n",
    "    \n",
    "    return df_cleaned"
   ]
  },
  {
   "cell_type": "code",
   "execution_count": 4,
   "metadata": {},
   "outputs": [],
   "source": [
    "# Read and clean the CSV files\n",
    "pri_df = read_and_clean_csv(pri_path)\n",
    "sec_df = read_and_clean_csv(sec_path)\n",
    "tri_df = read_and_clean_csv(tri_path)"
   ]
  },
  {
   "cell_type": "markdown",
   "metadata": {},
   "source": [
    "---"
   ]
  },
  {
   "cell_type": "code",
   "execution_count": 5,
   "metadata": {},
   "outputs": [],
   "source": [
    "def update_inventory_values(data):\n",
    "    supply_columns = ['B01_supply', 'B02_supply', 'B03_supply', 'S01_supply', 'S02_supply', 'S03_supply']\n",
    "    inv_columns = ['B01_inv', 'B02_inv', 'B03_inv', 'S01_inv', 'S02_inv', 'S03_inv']\n",
    "    \n",
    "    for supply_col, inv_col in zip(supply_columns, inv_columns):\n",
    "        data[inv_col] = data.apply(lambda row: row[inv_col] if row[supply_col] > 0 else 0, axis=1)\n",
    "    \n",
    "    return data"
   ]
  },
  {
   "cell_type": "code",
   "execution_count": 6,
   "metadata": {},
   "outputs": [],
   "source": [
    "pri_df_cln = update_inventory_values(pri_df)\n",
    "sec_df_cln = update_inventory_values(sec_df)\n",
    "tri_df_cln = update_inventory_values(tri_df)"
   ]
  },
  {
   "cell_type": "markdown",
   "metadata": {},
   "source": [
    "---\n"
   ]
  },
  {
   "cell_type": "code",
   "execution_count": 9,
   "metadata": {},
   "outputs": [],
   "source": [
    "supply_columns = ['B01_supply', 'B02_supply', 'B03_supply', 'S01_supply', 'S02_supply', 'S03_supply']\n",
    "inv_columns = ['B01_inv', 'B02_inv', 'B03_inv', 'S01_inv', 'S02_inv', 'S03_inv']\n"
   ]
  },
  {
   "cell_type": "code",
   "execution_count": 22,
   "metadata": {},
   "outputs": [],
   "source": [
    "comparison_results = pd.DataFrame(columns=['Supply_Column', 'Inv_Comparison'])\n"
   ]
  },
  {
   "cell_type": "code",
   "execution_count": 23,
   "metadata": {},
   "outputs": [
    {
     "name": "stderr",
     "output_type": "stream",
     "text": [
      "C:\\Users\\MOTHERSHIP\\AppData\\Local\\Temp\\ipykernel_52060\\2488213048.py:13: FutureWarning: The frame.append method is deprecated and will be removed from pandas in a future version. Use pandas.concat instead.\n",
      "  comparison_results = comparison_results.append({\n",
      "C:\\Users\\MOTHERSHIP\\AppData\\Local\\Temp\\ipykernel_52060\\2488213048.py:13: FutureWarning: The frame.append method is deprecated and will be removed from pandas in a future version. Use pandas.concat instead.\n",
      "  comparison_results = comparison_results.append({\n",
      "C:\\Users\\MOTHERSHIP\\AppData\\Local\\Temp\\ipykernel_52060\\2488213048.py:13: FutureWarning: The frame.append method is deprecated and will be removed from pandas in a future version. Use pandas.concat instead.\n",
      "  comparison_results = comparison_results.append({\n",
      "C:\\Users\\MOTHERSHIP\\AppData\\Local\\Temp\\ipykernel_52060\\2488213048.py:13: FutureWarning: The frame.append method is deprecated and will be removed from pandas in a future version. Use pandas.concat instead.\n",
      "  comparison_results = comparison_results.append({\n",
      "C:\\Users\\MOTHERSHIP\\AppData\\Local\\Temp\\ipykernel_52060\\2488213048.py:13: FutureWarning: The frame.append method is deprecated and will be removed from pandas in a future version. Use pandas.concat instead.\n",
      "  comparison_results = comparison_results.append({\n",
      "C:\\Users\\MOTHERSHIP\\AppData\\Local\\Temp\\ipykernel_52060\\2488213048.py:13: FutureWarning: The frame.append method is deprecated and will be removed from pandas in a future version. Use pandas.concat instead.\n",
      "  comparison_results = comparison_results.append({\n"
     ]
    }
   ],
   "source": [
    "for supply_col, inv_col in zip(supply_columns, inv_columns):\n",
    "    pri_inv = pri_df_cln[inv_col]\n",
    "    sec_inv = sec_df_cln[inv_col]\n",
    "    tri_inv = tri_df_cln[inv_col]\n",
    "    \n",
    "    # Calculate Absolute difference and ratio between pri and sec\n",
    "    diff_pri_sec = (pri_inv - sec_inv).abs().mean()  \n",
    "    ratio_pri_sec = (pri_inv / sec_inv).fillna(0).mean()  \n",
    "    diff_pri_tri = (pri_inv - tri_inv).abs().mean()  \n",
    "    ratio_pri_tri = (pri_inv / tri_inv).fillna(0).mean()  \n",
    "    \n",
    "    \n",
    "    comparison_results = comparison_results.append({\n",
    "        'Supply_Column': supply_col,\n",
    "        'Pri-Sec Diff': diff_pri_sec,\n",
    "        'Pri-Sec Ratio': ratio_pri_sec,\n",
    "        'Pri-Tri Diff': diff_pri_tri,\n",
    "        'Pri-Tri Ratio': ratio_pri_tri\n",
    "    }, ignore_index=True)"
   ]
  },
  {
   "cell_type": "code",
   "execution_count": 24,
   "metadata": {},
   "outputs": [
    {
     "data": {
      "text/html": [
       "<div>\n",
       "<style scoped>\n",
       "    .dataframe tbody tr th:only-of-type {\n",
       "        vertical-align: middle;\n",
       "    }\n",
       "\n",
       "    .dataframe tbody tr th {\n",
       "        vertical-align: top;\n",
       "    }\n",
       "\n",
       "    .dataframe thead th {\n",
       "        text-align: right;\n",
       "    }\n",
       "</style>\n",
       "<table border=\"1\" class=\"dataframe\">\n",
       "  <thead>\n",
       "    <tr style=\"text-align: right;\">\n",
       "      <th></th>\n",
       "      <th>Supply_Column</th>\n",
       "      <th>Inv_Comparison</th>\n",
       "      <th>Pri-Sec Diff</th>\n",
       "      <th>Pri-Sec Ratio</th>\n",
       "      <th>Pri-Tri Diff</th>\n",
       "      <th>Pri-Tri Ratio</th>\n",
       "    </tr>\n",
       "  </thead>\n",
       "  <tbody>\n",
       "    <tr>\n",
       "      <th>0</th>\n",
       "      <td>B01_supply</td>\n",
       "      <td>NaN</td>\n",
       "      <td>2765.461248</td>\n",
       "      <td>inf</td>\n",
       "      <td>0.0</td>\n",
       "      <td>0.574713</td>\n",
       "    </tr>\n",
       "    <tr>\n",
       "      <th>1</th>\n",
       "      <td>B02_supply</td>\n",
       "      <td>NaN</td>\n",
       "      <td>1867.006368</td>\n",
       "      <td>inf</td>\n",
       "      <td>0.0</td>\n",
       "      <td>0.886335</td>\n",
       "    </tr>\n",
       "    <tr>\n",
       "      <th>2</th>\n",
       "      <td>B03_supply</td>\n",
       "      <td>NaN</td>\n",
       "      <td>17.521364</td>\n",
       "      <td>inf</td>\n",
       "      <td>0.0</td>\n",
       "      <td>0.038314</td>\n",
       "    </tr>\n",
       "    <tr>\n",
       "      <th>3</th>\n",
       "      <td>S01_supply</td>\n",
       "      <td>NaN</td>\n",
       "      <td>3.448683</td>\n",
       "      <td>inf</td>\n",
       "      <td>0.0</td>\n",
       "      <td>0.002554</td>\n",
       "    </tr>\n",
       "    <tr>\n",
       "      <th>4</th>\n",
       "      <td>S02_supply</td>\n",
       "      <td>NaN</td>\n",
       "      <td>31.462563</td>\n",
       "      <td>inf</td>\n",
       "      <td>0.0</td>\n",
       "      <td>0.049808</td>\n",
       "    </tr>\n",
       "    <tr>\n",
       "      <th>5</th>\n",
       "      <td>S03_supply</td>\n",
       "      <td>NaN</td>\n",
       "      <td>12.222107</td>\n",
       "      <td>inf</td>\n",
       "      <td>0.0</td>\n",
       "      <td>0.019157</td>\n",
       "    </tr>\n",
       "  </tbody>\n",
       "</table>\n",
       "</div>"
      ],
      "text/plain": [
       "  Supply_Column Inv_Comparison  Pri-Sec Diff  Pri-Sec Ratio  Pri-Tri Diff  \\\n",
       "0    B01_supply            NaN   2765.461248            inf           0.0   \n",
       "1    B02_supply            NaN   1867.006368            inf           0.0   \n",
       "2    B03_supply            NaN     17.521364            inf           0.0   \n",
       "3    S01_supply            NaN      3.448683            inf           0.0   \n",
       "4    S02_supply            NaN     31.462563            inf           0.0   \n",
       "5    S03_supply            NaN     12.222107            inf           0.0   \n",
       "\n",
       "   Pri-Tri Ratio  \n",
       "0       0.574713  \n",
       "1       0.886335  \n",
       "2       0.038314  \n",
       "3       0.002554  \n",
       "4       0.049808  \n",
       "5       0.019157  "
      ]
     },
     "execution_count": 24,
     "metadata": {},
     "output_type": "execute_result"
    }
   ],
   "source": [
    "comparison_results"
   ]
  },
  {
   "cell_type": "markdown",
   "metadata": {},
   "source": [
    "---\n"
   ]
  },
  {
   "cell_type": "code",
   "execution_count": 25,
   "metadata": {},
   "outputs": [],
   "source": [
    "inv_columns = ['B01_inv', 'B02_inv', 'B03_inv', 'S01_inv', 'S02_inv', 'S03_inv']"
   ]
  },
  {
   "cell_type": "code",
   "execution_count": 28,
   "metadata": {},
   "outputs": [],
   "source": [
    "average_predictions = pd.merge(pri_df_cln, sec_df_cln[inv_columns], left_index=True, right_index=True)\n"
   ]
  },
  {
   "cell_type": "code",
   "execution_count": 29,
   "metadata": {},
   "outputs": [],
   "source": [
    "average_predictions = pd.merge(average_predictions, tri_df_cln[inv_columns], left_index=True, right_index=True)\n"
   ]
  },
  {
   "cell_type": "code",
   "execution_count": 30,
   "metadata": {},
   "outputs": [],
   "source": [
    "for inv_col in inv_columns:\n",
    "    average_predictions[inv_col] = average_predictions[[f'{inv_col}_x', f'{inv_col}_y', inv_col]].mean(axis=1)"
   ]
  },
  {
   "cell_type": "code",
   "execution_count": 32,
   "metadata": {},
   "outputs": [],
   "source": [
    "columns_to_drop = [f'{inv_col}_x' for inv_col in inv_columns] + [f'{inv_col}_y' for inv_col in inv_columns]\n",
    "average_predictions.drop(columns=columns_to_drop, inplace=True)"
   ]
  },
  {
   "cell_type": "code",
   "execution_count": 34,
   "metadata": {},
   "outputs": [
    {
     "data": {
      "text/html": [
       "<div>\n",
       "<style scoped>\n",
       "    .dataframe tbody tr th:only-of-type {\n",
       "        vertical-align: middle;\n",
       "    }\n",
       "\n",
       "    .dataframe tbody tr th {\n",
       "        vertical-align: top;\n",
       "    }\n",
       "\n",
       "    .dataframe thead th {\n",
       "        text-align: right;\n",
       "    }\n",
       "</style>\n",
       "<table border=\"1\" class=\"dataframe\">\n",
       "  <thead>\n",
       "    <tr style=\"text-align: right;\">\n",
       "      <th></th>\n",
       "      <th>CUST_ID</th>\n",
       "      <th>CUST__NAME</th>\n",
       "      <th>SKU_ID</th>\n",
       "      <th>sku_name</th>\n",
       "      <th>POS_TYPE_focus</th>\n",
       "      <th>POS_Sec</th>\n",
       "      <th>POS_Ter</th>\n",
       "      <th>B01_supply</th>\n",
       "      <th>B02_supply</th>\n",
       "      <th>B03_supply</th>\n",
       "      <th>...</th>\n",
       "      <th>POS_Revenue_$10-20 MILLION</th>\n",
       "      <th>POS_Revenue_$2.5-5 MILLION</th>\n",
       "      <th>POS_Revenue_$5-10 MILLION</th>\n",
       "      <th>POS_Revenue_LESS THAN $500,000</th>\n",
       "      <th>B01_inv</th>\n",
       "      <th>B02_inv</th>\n",
       "      <th>B03_inv</th>\n",
       "      <th>S01_inv</th>\n",
       "      <th>S02_inv</th>\n",
       "      <th>S03_inv</th>\n",
       "    </tr>\n",
       "  </thead>\n",
       "  <tbody>\n",
       "    <tr>\n",
       "      <th>0</th>\n",
       "      <td>2001000</td>\n",
       "      <td>Banyan Foods</td>\n",
       "      <td>1001018</td>\n",
       "      <td>tofu</td>\n",
       "      <td>FOOD STORES</td>\n",
       "      <td>GENERAL STORES</td>\n",
       "      <td>SPECIALTY FOODS</td>\n",
       "      <td>0.0</td>\n",
       "      <td>0.0</td>\n",
       "      <td>0.0</td>\n",
       "      <td>...</td>\n",
       "      <td>0</td>\n",
       "      <td>0</td>\n",
       "      <td>0</td>\n",
       "      <td>1</td>\n",
       "      <td>0.0</td>\n",
       "      <td>0.0</td>\n",
       "      <td>0.0</td>\n",
       "      <td>0.0</td>\n",
       "      <td>63.782810</td>\n",
       "      <td>0.0</td>\n",
       "    </tr>\n",
       "    <tr>\n",
       "      <th>1</th>\n",
       "      <td>2001000</td>\n",
       "      <td>Banyan Foods</td>\n",
       "      <td>1001018</td>\n",
       "      <td>tofu</td>\n",
       "      <td>FOOD STORES</td>\n",
       "      <td>GENERAL STORES</td>\n",
       "      <td>SPECIALTY FOODS</td>\n",
       "      <td>0.0</td>\n",
       "      <td>0.0</td>\n",
       "      <td>0.0</td>\n",
       "      <td>...</td>\n",
       "      <td>0</td>\n",
       "      <td>0</td>\n",
       "      <td>0</td>\n",
       "      <td>1</td>\n",
       "      <td>0.0</td>\n",
       "      <td>0.0</td>\n",
       "      <td>0.0</td>\n",
       "      <td>0.0</td>\n",
       "      <td>51.067153</td>\n",
       "      <td>0.0</td>\n",
       "    </tr>\n",
       "    <tr>\n",
       "      <th>2</th>\n",
       "      <td>2001000</td>\n",
       "      <td>Banyan Foods</td>\n",
       "      <td>1001018</td>\n",
       "      <td>tofu</td>\n",
       "      <td>FOOD STORES</td>\n",
       "      <td>GENERAL STORES</td>\n",
       "      <td>SPECIALTY FOODS</td>\n",
       "      <td>0.0</td>\n",
       "      <td>0.0</td>\n",
       "      <td>0.0</td>\n",
       "      <td>...</td>\n",
       "      <td>0</td>\n",
       "      <td>0</td>\n",
       "      <td>0</td>\n",
       "      <td>1</td>\n",
       "      <td>0.0</td>\n",
       "      <td>0.0</td>\n",
       "      <td>0.0</td>\n",
       "      <td>0.0</td>\n",
       "      <td>247.991300</td>\n",
       "      <td>0.0</td>\n",
       "    </tr>\n",
       "    <tr>\n",
       "      <th>3</th>\n",
       "      <td>2001000</td>\n",
       "      <td>Banyan Foods</td>\n",
       "      <td>1001018</td>\n",
       "      <td>tofu</td>\n",
       "      <td>FOOD STORES</td>\n",
       "      <td>GENERAL STORES</td>\n",
       "      <td>SPECIALTY FOODS</td>\n",
       "      <td>0.0</td>\n",
       "      <td>0.0</td>\n",
       "      <td>0.0</td>\n",
       "      <td>...</td>\n",
       "      <td>0</td>\n",
       "      <td>0</td>\n",
       "      <td>0</td>\n",
       "      <td>1</td>\n",
       "      <td>0.0</td>\n",
       "      <td>0.0</td>\n",
       "      <td>0.0</td>\n",
       "      <td>0.0</td>\n",
       "      <td>227.236527</td>\n",
       "      <td>0.0</td>\n",
       "    </tr>\n",
       "  </tbody>\n",
       "</table>\n",
       "<p>4 rows × 35 columns</p>\n",
       "</div>"
      ],
      "text/plain": [
       "   CUST_ID    CUST__NAME   SKU_ID sku_name POS_TYPE_focus         POS_Sec  \\\n",
       "0  2001000  Banyan Foods  1001018     tofu    FOOD STORES  GENERAL STORES   \n",
       "1  2001000  Banyan Foods  1001018     tofu    FOOD STORES  GENERAL STORES   \n",
       "2  2001000  Banyan Foods  1001018     tofu    FOOD STORES  GENERAL STORES   \n",
       "3  2001000  Banyan Foods  1001018     tofu    FOOD STORES  GENERAL STORES   \n",
       "\n",
       "           POS_Ter  B01_supply  B02_supply  B03_supply  ...  \\\n",
       "0  SPECIALTY FOODS         0.0         0.0         0.0  ...   \n",
       "1  SPECIALTY FOODS         0.0         0.0         0.0  ...   \n",
       "2  SPECIALTY FOODS         0.0         0.0         0.0  ...   \n",
       "3  SPECIALTY FOODS         0.0         0.0         0.0  ...   \n",
       "\n",
       "   POS_Revenue_$10-20 MILLION  POS_Revenue_$2.5-5 MILLION  \\\n",
       "0                           0                           0   \n",
       "1                           0                           0   \n",
       "2                           0                           0   \n",
       "3                           0                           0   \n",
       "\n",
       "   POS_Revenue_$5-10 MILLION  POS_Revenue_LESS THAN $500,000  B01_inv B02_inv  \\\n",
       "0                          0                               1      0.0     0.0   \n",
       "1                          0                               1      0.0     0.0   \n",
       "2                          0                               1      0.0     0.0   \n",
       "3                          0                               1      0.0     0.0   \n",
       "\n",
       "   B03_inv S01_inv     S02_inv  S03_inv  \n",
       "0      0.0     0.0   63.782810      0.0  \n",
       "1      0.0     0.0   51.067153      0.0  \n",
       "2      0.0     0.0  247.991300      0.0  \n",
       "3      0.0     0.0  227.236527      0.0  \n",
       "\n",
       "[4 rows x 35 columns]"
      ]
     },
     "execution_count": 34,
     "metadata": {},
     "output_type": "execute_result"
    }
   ],
   "source": [
    "average_predictions.head(4)"
   ]
  },
  {
   "cell_type": "code",
   "execution_count": null,
   "metadata": {},
   "outputs": [],
   "source": [
    "average_predictions.to_csv('../analysis/avg_encoded_predictions.csv')"
   ]
  }
 ],
 "metadata": {
  "kernelspec": {
   "display_name": "dev00",
   "language": "python",
   "name": "python3"
  },
  "language_info": {
   "codemirror_mode": {
    "name": "ipython",
    "version": 3
   },
   "file_extension": ".py",
   "mimetype": "text/x-python",
   "name": "python",
   "nbconvert_exporter": "python",
   "pygments_lexer": "ipython3",
   "version": "3.10.11"
  },
  "orig_nbformat": 4
 },
 "nbformat": 4,
 "nbformat_minor": 2
}
