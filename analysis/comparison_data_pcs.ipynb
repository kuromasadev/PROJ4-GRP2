{
 "cells": [
  {
   "cell_type": "code",
   "execution_count": 2,
   "metadata": {},
   "outputs": [],
   "source": [
    "import pandas as pd\n",
    "import numpy as np"
   ]
  },
  {
   "cell_type": "code",
   "execution_count": 1,
   "metadata": {},
   "outputs": [],
   "source": [
    "### File Paths\n",
    "\n",
    "pri_path = '../data/predicted/pri_comp_inv.csv'\n",
    "sec_path = '../data/predicted/sec_comp_inv.csv'\n",
    "tri_path = '../data/predicted/tri_comp_inv.csv'"
   ]
  },
  {
   "cell_type": "code",
   "execution_count": 3,
   "metadata": {},
   "outputs": [],
   "source": [
    "def read_and_clean_csv(file_path):\n",
    "    # Read the CSV file into a DataFrame\n",
    "    df = pd.read_csv(file_path)\n",
    "    \n",
    "    # Drop rows with NaN values\n",
    "    df_cleaned = df.dropna(how='all')\n",
    "    \n",
    "    return df_cleaned"
   ]
  },
  {
   "cell_type": "code",
   "execution_count": 4,
   "metadata": {},
   "outputs": [],
   "source": [
    "# Read and clean the CSV files\n",
    "pri_df = read_and_clean_csv(pri_path)\n",
    "sec_df = read_and_clean_csv(sec_path)\n",
    "tri_df = read_and_clean_csv(tri_path)"
   ]
  },
  {
   "cell_type": "markdown",
   "metadata": {},
   "source": [
    "---"
   ]
  },
  {
   "cell_type": "code",
   "execution_count": 5,
   "metadata": {},
   "outputs": [],
   "source": [
    "def update_inventory_values(data):\n",
    "    supply_columns = ['B01_supply', 'B02_supply', 'B03_supply', 'S01_supply', 'S02_supply', 'S03_supply']\n",
    "    inv_columns = ['B01_inv', 'B02_inv', 'B03_inv', 'S01_inv', 'S02_inv', 'S03_inv']\n",
    "    \n",
    "    for supply_col, inv_col in zip(supply_columns, inv_columns):\n",
    "        data[inv_col] = data.apply(lambda row: row[inv_col] if row[supply_col] > 0 else 0, axis=1)\n",
    "    \n",
    "    return data"
   ]
  },
  {
   "cell_type": "code",
   "execution_count": 6,
   "metadata": {},
   "outputs": [],
   "source": [
    "pri_df_cln = update_inventory_values(pri_df)\n",
    "sec_df_cln = update_inventory_values(sec_df)\n",
    "tri_df_cln = update_inventory_values(tri_df)"
   ]
  },
  {
   "cell_type": "markdown",
   "metadata": {},
   "source": [
    "---\n"
   ]
  },
  {
   "cell_type": "code",
   "execution_count": 9,
   "metadata": {},
   "outputs": [],
   "source": [
    "supply_columns = ['B01_supply', 'B02_supply', 'B03_supply', 'S01_supply', 'S02_supply', 'S03_supply']\n",
    "inv_columns = ['B01_inv', 'B02_inv', 'B03_inv', 'S01_inv', 'S02_inv', 'S03_inv']\n"
   ]
  },
  {
   "cell_type": "code",
   "execution_count": 11,
   "metadata": {},
   "outputs": [],
   "source": [
    "comparison_results = pd.DataFrame(columns=['Supply_Column', 'Inv_Comparison'])\n"
   ]
  },
  {
   "cell_type": "code",
   "execution_count": 12,
   "metadata": {},
   "outputs": [
    {
     "name": "stderr",
     "output_type": "stream",
     "text": [
      "C:\\Users\\MOTHERSHIP\\AppData\\Local\\Temp\\ipykernel_52060\\560067714.py:14: FutureWarning: The frame.append method is deprecated and will be removed from pandas in a future version. Use pandas.concat instead.\n",
      "  comparison_results = comparison_results.append({'Supply_Column': supply_col, 'Inv_Comparison': f\"PRI-Sec: {diff_pri_sec.mean()}, PRI/Tri: {ratio_pri_tri.mean()}, PRI-Tri: {diff_pri_tri.mean()}, PRI/Tri: {ratio_pri_tri.mean()}\"}, ignore_index=True)\n",
      "C:\\Users\\MOTHERSHIP\\AppData\\Local\\Temp\\ipykernel_52060\\560067714.py:14: FutureWarning: The frame.append method is deprecated and will be removed from pandas in a future version. Use pandas.concat instead.\n",
      "  comparison_results = comparison_results.append({'Supply_Column': supply_col, 'Inv_Comparison': f\"PRI-Sec: {diff_pri_sec.mean()}, PRI/Tri: {ratio_pri_tri.mean()}, PRI-Tri: {diff_pri_tri.mean()}, PRI/Tri: {ratio_pri_tri.mean()}\"}, ignore_index=True)\n",
      "C:\\Users\\MOTHERSHIP\\AppData\\Local\\Temp\\ipykernel_52060\\560067714.py:14: FutureWarning: The frame.append method is deprecated and will be removed from pandas in a future version. Use pandas.concat instead.\n",
      "  comparison_results = comparison_results.append({'Supply_Column': supply_col, 'Inv_Comparison': f\"PRI-Sec: {diff_pri_sec.mean()}, PRI/Tri: {ratio_pri_tri.mean()}, PRI-Tri: {diff_pri_tri.mean()}, PRI/Tri: {ratio_pri_tri.mean()}\"}, ignore_index=True)\n",
      "C:\\Users\\MOTHERSHIP\\AppData\\Local\\Temp\\ipykernel_52060\\560067714.py:14: FutureWarning: The frame.append method is deprecated and will be removed from pandas in a future version. Use pandas.concat instead.\n",
      "  comparison_results = comparison_results.append({'Supply_Column': supply_col, 'Inv_Comparison': f\"PRI-Sec: {diff_pri_sec.mean()}, PRI/Tri: {ratio_pri_tri.mean()}, PRI-Tri: {diff_pri_tri.mean()}, PRI/Tri: {ratio_pri_tri.mean()}\"}, ignore_index=True)\n",
      "C:\\Users\\MOTHERSHIP\\AppData\\Local\\Temp\\ipykernel_52060\\560067714.py:14: FutureWarning: The frame.append method is deprecated and will be removed from pandas in a future version. Use pandas.concat instead.\n",
      "  comparison_results = comparison_results.append({'Supply_Column': supply_col, 'Inv_Comparison': f\"PRI-Sec: {diff_pri_sec.mean()}, PRI/Tri: {ratio_pri_tri.mean()}, PRI-Tri: {diff_pri_tri.mean()}, PRI/Tri: {ratio_pri_tri.mean()}\"}, ignore_index=True)\n",
      "C:\\Users\\MOTHERSHIP\\AppData\\Local\\Temp\\ipykernel_52060\\560067714.py:14: FutureWarning: The frame.append method is deprecated and will be removed from pandas in a future version. Use pandas.concat instead.\n",
      "  comparison_results = comparison_results.append({'Supply_Column': supply_col, 'Inv_Comparison': f\"PRI-Sec: {diff_pri_sec.mean()}, PRI/Tri: {ratio_pri_tri.mean()}, PRI-Tri: {diff_pri_tri.mean()}, PRI/Tri: {ratio_pri_tri.mean()}\"}, ignore_index=True)\n"
     ]
    }
   ],
   "source": [
    "for supply_col, inv_col in zip(supply_columns, inv_columns):\n",
    "    # Get the _inv values from each DataFrame\n",
    "    pri_inv = pri_df_cln[inv_col]\n",
    "    sec_inv = sec_df_cln[inv_col]\n",
    "    tri_inv = tri_df_cln[inv_col]\n",
    "    \n",
    "    # Calculate differences or ratios\n",
    "    diff_pri_sec = (pri_inv - sec_inv).abs()  # Absolute difference between pri and sec\n",
    "    ratio_pri_sec = (pri_inv / sec_inv).fillna(0)  # Ratio of pri to sec, handle division by zero with fillna\n",
    "    diff_pri_tri = (pri_inv - tri_inv).abs()  # Absolute difference between pri and tri\n",
    "    ratio_pri_tri = (pri_inv / tri_inv).fillna(0)  # Ratio of pri to tri, handle division by zero with fillna\n",
    "    \n",
    "    # Store comparison results in the DataFrame\n",
    "    comparison_results = comparison_results.append({'Supply_Column': supply_col, 'Inv_Comparison': f\"PRI-Sec: {diff_pri_sec.mean()}, PRI/Tri: {ratio_pri_tri.mean()}, PRI-Tri: {diff_pri_tri.mean()}, PRI/Tri: {ratio_pri_tri.mean()}\"}, ignore_index=True)\n"
   ]
  },
  {
   "cell_type": "code",
   "execution_count": 14,
   "metadata": {},
   "outputs": [
    {
     "data": {
      "text/html": [
       "<div>\n",
       "<style scoped>\n",
       "    .dataframe tbody tr th:only-of-type {\n",
       "        vertical-align: middle;\n",
       "    }\n",
       "\n",
       "    .dataframe tbody tr th {\n",
       "        vertical-align: top;\n",
       "    }\n",
       "\n",
       "    .dataframe thead th {\n",
       "        text-align: right;\n",
       "    }\n",
       "</style>\n",
       "<table border=\"1\" class=\"dataframe\">\n",
       "  <thead>\n",
       "    <tr style=\"text-align: right;\">\n",
       "      <th></th>\n",
       "      <th>Supply_Column</th>\n",
       "      <th>Inv_Comparison</th>\n",
       "    </tr>\n",
       "  </thead>\n",
       "  <tbody>\n",
       "    <tr>\n",
       "      <th>0</th>\n",
       "      <td>B01_supply</td>\n",
       "      <td>PRI-Sec: 2765.4612483459496, PRI/Tri: 0.574712...</td>\n",
       "    </tr>\n",
       "    <tr>\n",
       "      <th>1</th>\n",
       "      <td>B02_supply</td>\n",
       "      <td>PRI-Sec: 1867.0063684449221, PRI/Tri: 0.886334...</td>\n",
       "    </tr>\n",
       "    <tr>\n",
       "      <th>2</th>\n",
       "      <td>B03_supply</td>\n",
       "      <td>PRI-Sec: 17.52136370292334, PRI/Tri: 0.0383141...</td>\n",
       "    </tr>\n",
       "    <tr>\n",
       "      <th>3</th>\n",
       "      <td>S01_supply</td>\n",
       "      <td>PRI-Sec: 3.448683448009814, PRI/Tri: 0.0025542...</td>\n",
       "    </tr>\n",
       "    <tr>\n",
       "      <th>4</th>\n",
       "      <td>S02_supply</td>\n",
       "      <td>PRI-Sec: 31.4625630553858, PRI/Tri: 0.04980842...</td>\n",
       "    </tr>\n",
       "    <tr>\n",
       "      <th>5</th>\n",
       "      <td>S03_supply</td>\n",
       "      <td>PRI-Sec: 12.222106753467012, PRI/Tri: 0.019157...</td>\n",
       "    </tr>\n",
       "  </tbody>\n",
       "</table>\n",
       "</div>"
      ],
      "text/plain": [
       "  Supply_Column                                     Inv_Comparison\n",
       "0    B01_supply  PRI-Sec: 2765.4612483459496, PRI/Tri: 0.574712...\n",
       "1    B02_supply  PRI-Sec: 1867.0063684449221, PRI/Tri: 0.886334...\n",
       "2    B03_supply  PRI-Sec: 17.52136370292334, PRI/Tri: 0.0383141...\n",
       "3    S01_supply  PRI-Sec: 3.448683448009814, PRI/Tri: 0.0025542...\n",
       "4    S02_supply  PRI-Sec: 31.4625630553858, PRI/Tri: 0.04980842...\n",
       "5    S03_supply  PRI-Sec: 12.222106753467012, PRI/Tri: 0.019157..."
      ]
     },
     "execution_count": 14,
     "metadata": {},
     "output_type": "execute_result"
    }
   ],
   "source": [
    "comparison_results"
   ]
  }
 ],
 "metadata": {
  "kernelspec": {
   "display_name": "dev00",
   "language": "python",
   "name": "python3"
  },
  "language_info": {
   "codemirror_mode": {
    "name": "ipython",
    "version": 3
   },
   "file_extension": ".py",
   "mimetype": "text/x-python",
   "name": "python",
   "nbconvert_exporter": "python",
   "pygments_lexer": "ipython3",
   "version": "3.10.11"
  },
  "orig_nbformat": 4
 },
 "nbformat": 4,
 "nbformat_minor": 2
}
