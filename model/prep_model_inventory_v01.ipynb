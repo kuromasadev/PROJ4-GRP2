{
 "cells": [
  {
   "cell_type": "code",
   "execution_count": 1,
   "metadata": {},
   "outputs": [],
   "source": [
    "import pandas as pd"
   ]
  },
  {
   "cell_type": "code",
   "execution_count": 2,
   "metadata": {},
   "outputs": [],
   "source": [
    "# SUPPLY TABLES FILEPATHS\n",
    "table_A_path = '../data/0_key.csv'\n",
    "table_B_path = '../data/0_sku.csv'\n",
    "table_C_path = '../data/1_dist.csv'"
   ]
  },
  {
   "cell_type": "code",
   "execution_count": 7,
   "metadata": {},
   "outputs": [],
   "source": [
    "def read_and_clean_csv(file_path):\n",
    "    # Read the CSV file into a DataFrame\n",
    "    df = pd.read_csv(file_path)\n",
    "    \n",
    "    # Drop rows with NaN values\n",
    "    df_cleaned = df.dropna(how='all')\n",
    "    \n",
    "    return df_cleaned"
   ]
  },
  {
   "cell_type": "code",
   "execution_count": 8,
   "metadata": {},
   "outputs": [],
   "source": [
    "# Read and clean the CSV files\n",
    "table_A_df = read_and_clean_csv(table_A_path)\n",
    "table_B_df = read_and_clean_csv(table_B_path)\n",
    "table_C_df = read_and_clean_csv(table_C_path)"
   ]
  },
  {
   "cell_type": "code",
   "execution_count": 9,
   "metadata": {},
   "outputs": [],
   "source": [
    "distributors = table_C_df"
   ]
  },
  {
   "cell_type": "code",
   "execution_count": 11,
   "metadata": {},
   "outputs": [],
   "source": [
    "INV_catalog = table_B_df"
   ]
  },
  {
   "cell_type": "markdown",
   "metadata": {},
   "source": [
    "----\n"
   ]
  },
  {
   "cell_type": "code",
   "execution_count": 22,
   "metadata": {},
   "outputs": [
    {
     "data": {
      "text/html": [
       "<div>\n",
       "<style scoped>\n",
       "    .dataframe tbody tr th:only-of-type {\n",
       "        vertical-align: middle;\n",
       "    }\n",
       "\n",
       "    .dataframe tbody tr th {\n",
       "        vertical-align: top;\n",
       "    }\n",
       "\n",
       "    .dataframe thead th {\n",
       "        text-align: right;\n",
       "    }\n",
       "</style>\n",
       "<table border=\"1\" class=\"dataframe\">\n",
       "  <thead>\n",
       "    <tr style=\"text-align: right;\">\n",
       "      <th></th>\n",
       "      <th>CUST_ID</th>\n",
       "      <th>schema_id</th>\n",
       "      <th>CUST__NAME</th>\n",
       "      <th>supply_desc</th>\n",
       "      <th>Sector_ID</th>\n",
       "      <th>SKU_volume</th>\n",
       "      <th>Address Type</th>\n",
       "      <th>CUST_ADDRESS</th>\n",
       "      <th>longitude</th>\n",
       "      <th>latitude</th>\n",
       "    </tr>\n",
       "  </thead>\n",
       "  <tbody>\n",
       "    <tr>\n",
       "      <th>0</th>\n",
       "      <td>2001000</td>\n",
       "      <td>S02</td>\n",
       "      <td>Banyan Foods</td>\n",
       "      <td>food packaging</td>\n",
       "      <td>NaN</td>\n",
       "      <td>NaN</td>\n",
       "      <td>point_of_sale</td>\n",
       "      <td>10940 Wilcrest Dr, Houston, TX 77099</td>\n",
       "      <td>-95.568779</td>\n",
       "      <td>29.664062</td>\n",
       "    </tr>\n",
       "    <tr>\n",
       "      <th>1</th>\n",
       "      <td>2001001</td>\n",
       "      <td>S02</td>\n",
       "      <td>Houston Calco</td>\n",
       "      <td>food manufacturing</td>\n",
       "      <td>NaN</td>\n",
       "      <td>NaN</td>\n",
       "      <td>warehouse</td>\n",
       "      <td>2400 Dallas St, Houston, TX 77003</td>\n",
       "      <td>-95.354057</td>\n",
       "      <td>29.748090</td>\n",
       "    </tr>\n",
       "    <tr>\n",
       "      <th>2</th>\n",
       "      <td>2001002</td>\n",
       "      <td>S02</td>\n",
       "      <td>Tan Tan Tofu</td>\n",
       "      <td>food manufacturing</td>\n",
       "      <td>NaN</td>\n",
       "      <td>NaN</td>\n",
       "      <td>point_of_sale</td>\n",
       "      <td>6791 Wilcrest Dr. Houston, TX 77072</td>\n",
       "      <td>-95.571122</td>\n",
       "      <td>29.704095</td>\n",
       "    </tr>\n",
       "    <tr>\n",
       "      <th>3</th>\n",
       "      <td>2001003</td>\n",
       "      <td>S02</td>\n",
       "      <td>Thanh Son Tofu</td>\n",
       "      <td>food manufacturing</td>\n",
       "      <td>NaN</td>\n",
       "      <td>NaN</td>\n",
       "      <td>registered_address</td>\n",
       "      <td>13574 SAN MARTIN LN HOUSTON, TX 77083</td>\n",
       "      <td>-95.623345</td>\n",
       "      <td>29.695825</td>\n",
       "    </tr>\n",
       "    <tr>\n",
       "      <th>4</th>\n",
       "      <td>2001004</td>\n",
       "      <td>S02</td>\n",
       "      <td>Viet Tien Tofu &amp; Fast Food</td>\n",
       "      <td>food manufacturing</td>\n",
       "      <td>NaN</td>\n",
       "      <td>NaN</td>\n",
       "      <td>point_of_sale</td>\n",
       "      <td>11210 Bellaire Blvd. Ste 132. Houston, TX 77072</td>\n",
       "      <td>-95.576026</td>\n",
       "      <td>29.704697</td>\n",
       "    </tr>\n",
       "  </tbody>\n",
       "</table>\n",
       "</div>"
      ],
      "text/plain": [
       "   CUST_ID schema_id                  CUST__NAME         supply_desc  \\\n",
       "0  2001000       S02                Banyan Foods      food packaging   \n",
       "1  2001001       S02               Houston Calco  food manufacturing   \n",
       "2  2001002       S02                Tan Tan Tofu  food manufacturing   \n",
       "3  2001003       S02              Thanh Son Tofu  food manufacturing   \n",
       "4  2001004       S02  Viet Tien Tofu & Fast Food  food manufacturing   \n",
       "\n",
       "   Sector_ID  SKU_volume        Address Type  \\\n",
       "0        NaN         NaN       point_of_sale   \n",
       "1        NaN         NaN           warehouse   \n",
       "2        NaN         NaN       point_of_sale   \n",
       "3        NaN         NaN  registered_address   \n",
       "4        NaN         NaN       point_of_sale   \n",
       "\n",
       "                                      CUST_ADDRESS  longitude   latitude  \n",
       "0             10940 Wilcrest Dr, Houston, TX 77099 -95.568779  29.664062  \n",
       "1                2400 Dallas St, Houston, TX 77003 -95.354057  29.748090  \n",
       "2              6791 Wilcrest Dr. Houston, TX 77072 -95.571122  29.704095  \n",
       "3            13574 SAN MARTIN LN HOUSTON, TX 77083 -95.623345  29.695825  \n",
       "4  11210 Bellaire Blvd. Ste 132. Houston, TX 77072 -95.576026  29.704697  "
      ]
     },
     "execution_count": 22,
     "metadata": {},
     "output_type": "execute_result"
    }
   ],
   "source": [
    "distributors.head(5)"
   ]
  },
  {
   "cell_type": "code",
   "execution_count": 14,
   "metadata": {},
   "outputs": [
    {
     "data": {
      "text/html": [
       "<div>\n",
       "<style scoped>\n",
       "    .dataframe tbody tr th:only-of-type {\n",
       "        vertical-align: middle;\n",
       "    }\n",
       "\n",
       "    .dataframe tbody tr th {\n",
       "        vertical-align: top;\n",
       "    }\n",
       "\n",
       "    .dataframe thead th {\n",
       "        text-align: right;\n",
       "    }\n",
       "</style>\n",
       "<table border=\"1\" class=\"dataframe\">\n",
       "  <thead>\n",
       "    <tr style=\"text-align: right;\">\n",
       "      <th></th>\n",
       "      <th>SKU_ID</th>\n",
       "      <th>schema_id</th>\n",
       "      <th>sku_name</th>\n",
       "      <th>avg_price</th>\n",
       "      <th>supply_desc</th>\n",
       "      <th>distribution</th>\n",
       "      <th>production</th>\n",
       "    </tr>\n",
       "  </thead>\n",
       "  <tbody>\n",
       "    <tr>\n",
       "      <th>0</th>\n",
       "      <td>1001000.0</td>\n",
       "      <td>B01</td>\n",
       "      <td>chuck</td>\n",
       "      <td>4.63</td>\n",
       "      <td>food packaging</td>\n",
       "      <td>wholesale</td>\n",
       "      <td>processed</td>\n",
       "    </tr>\n",
       "    <tr>\n",
       "      <th>1</th>\n",
       "      <td>1001001.0</td>\n",
       "      <td>B01</td>\n",
       "      <td>brisket</td>\n",
       "      <td>5.11</td>\n",
       "      <td>food packaging</td>\n",
       "      <td>wholesale</td>\n",
       "      <td>processed</td>\n",
       "    </tr>\n",
       "  </tbody>\n",
       "</table>\n",
       "</div>"
      ],
      "text/plain": [
       "      SKU_ID schema_id sku_name  avg_price     supply_desc distribution  \\\n",
       "0  1001000.0       B01    chuck       4.63  food packaging    wholesale   \n",
       "1  1001001.0       B01  brisket       5.11  food packaging    wholesale   \n",
       "\n",
       "  production  \n",
       "0  processed  \n",
       "1  processed  "
      ]
     },
     "execution_count": 14,
     "metadata": {},
     "output_type": "execute_result"
    }
   ],
   "source": [
    "INV_catalog.head(2)"
   ]
  },
  {
   "cell_type": "code",
   "execution_count": 25,
   "metadata": {},
   "outputs": [],
   "source": [
    "INV_dist_df = pd.merge(distributors[['CUST_ID','CUST__NAME','schema_id','Address Type']], INV_catalog[['SKU_ID','schema_id','sku_name']], on='schema_id')"
   ]
  },
  {
   "cell_type": "code",
   "execution_count": 26,
   "metadata": {},
   "outputs": [],
   "source": [
    "INV_dist_df.to_csv('../data/1_inv.csv',index=False)"
   ]
  },
  {
   "cell_type": "markdown",
   "metadata": {},
   "source": [
    "---\n"
   ]
  },
  {
   "cell_type": "code",
   "execution_count": null,
   "metadata": {},
   "outputs": [],
   "source": []
  }
 ],
 "metadata": {
  "kernelspec": {
   "display_name": "dev00",
   "language": "python",
   "name": "python3"
  },
  "language_info": {
   "codemirror_mode": {
    "name": "ipython",
    "version": 3
   },
   "file_extension": ".py",
   "mimetype": "text/x-python",
   "name": "python",
   "nbconvert_exporter": "python",
   "pygments_lexer": "ipython3",
   "version": "3.10.11"
  },
  "orig_nbformat": 4
 },
 "nbformat": 4,
 "nbformat_minor": 2
}
